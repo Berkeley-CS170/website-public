{
 "cells": [
  {
   "cell_type": "code",
   "execution_count": 1,
   "metadata": {},
   "outputs": [],
   "source": [
    "def fib(n):\n",
    "    if n<=1: \n",
    "        return n\n",
    "    else:\n",
    "        return fib(n-1) + fib(n-2)"
   ]
  },
  {
   "cell_type": "code",
   "execution_count": 1,
   "metadata": {},
   "outputs": [],
   "source": [
    "# fib(40) # beware of running this line; it'll hang for a while!"
   ]
  },
  {
   "cell_type": "code",
   "execution_count": 3,
   "metadata": {},
   "outputs": [],
   "source": [
    "def fibMemo(n, mem):\n",
    "    if n<=1:\n",
    "        return n\n",
    "    elif mem[n]!=None:\n",
    "        return mem[n]\n",
    "    else:\n",
    "        mem[n] = fibMemo(n-1,mem) + fibMemo(n-2,mem)\n",
    "        return mem[n]\n",
    "\n",
    "def fibFast(n):\n",
    "    mem = [None]*(n+1)\n",
    "    return fibMemo(n, mem)"
   ]
  },
  {
   "cell_type": "code",
   "execution_count": 4,
   "metadata": {},
   "outputs": [
    {
     "data": {
      "text/plain": [
       "102334155"
      ]
     },
     "execution_count": 4,
     "metadata": {},
     "output_type": "execute_result"
    }
   ],
   "source": [
    "fibFast(40)"
   ]
  },
  {
   "cell_type": "code",
   "execution_count": 5,
   "metadata": {},
   "outputs": [
    {
     "data": {
      "text/plain": [
       "354224848179261915075"
      ]
     },
     "execution_count": 5,
     "metadata": {},
     "output_type": "execute_result"
    }
   ],
   "source": [
    "fibFast(100)"
   ]
  },
  {
   "cell_type": "code",
   "execution_count": 6,
   "metadata": {},
   "outputs": [],
   "source": [
    "def fibBottomUp(n):\n",
    "    mem = [None]*(n+1)\n",
    "    mem[0] = 0\n",
    "    mem[1] = 1\n",
    "    for i in range(2, n+1):\n",
    "        mem[i] = mem[i-1] + mem[i-2]\n",
    "    return mem[n]"
   ]
  },
  {
   "cell_type": "code",
   "execution_count": 7,
   "metadata": {},
   "outputs": [
    {
     "data": {
      "text/plain": [
       "102334155"
      ]
     },
     "execution_count": 7,
     "metadata": {},
     "output_type": "execute_result"
    }
   ],
   "source": [
    "fibBottomUp(40)"
   ]
  },
  {
   "cell_type": "code",
   "execution_count": 8,
   "metadata": {},
   "outputs": [],
   "source": [
    "def fibBottomUpSpaceSaving(n):\n",
    "    mem = [0, 1] # stores mem[i-1] and mem[i-2]\n",
    "    for i in range(2, n+1):\n",
    "        x = mem[0] + mem[1]\n",
    "        mem[0] = mem[1]\n",
    "        mem[1] = x\n",
    "    return mem[1]"
   ]
  },
  {
   "cell_type": "code",
   "execution_count": 9,
   "metadata": {},
   "outputs": [
    {
     "data": {
      "text/plain": [
       "102334155"
      ]
     },
     "execution_count": 9,
     "metadata": {},
     "output_type": "execute_result"
    }
   ],
   "source": [
    "fibBottomUpSpaceSaving(40)"
   ]
  },
  {
   "cell_type": "code",
   "execution_count": 10,
   "metadata": {},
   "outputs": [],
   "source": [
    "myG = [ [[1, 3], [2, 1]],\n",
    "      [[3, 1]],\n",
    "      [[3, 11]],\n",
    "      [[4, 1]],\n",
    "      [],\n",
    "      []]"
   ]
  },
  {
   "cell_type": "code",
   "execution_count": 11,
   "metadata": {},
   "outputs": [],
   "source": [
    "def revGraph(G):\n",
    "    revG = [ [] for _ in range(len(G))]\n",
    "    for i in range(len(G)):\n",
    "        for e in G[i]:\n",
    "            v = e[0]\n",
    "            weight = e[1]\n",
    "            revG[v].append([i, weight])\n",
    "    return revG"
   ]
  },
  {
   "cell_type": "code",
   "execution_count": 12,
   "metadata": {},
   "outputs": [],
   "source": [
    "def sPDAGHelper(revG, s, t):\n",
    "    if s==t:\n",
    "        return 0\n",
    "    elif len(revG[t])==0:\n",
    "        return float('infinity')\n",
    "    else:\n",
    "        best = float('infinity')\n",
    "        for e in revG[t]:\n",
    "            v = e[0]\n",
    "            weight = e[1]\n",
    "            best = min(best, sPDAGHelper(revG, s, v) + weight)\n",
    "        return best\n",
    "\n",
    "def shortestPathDAG(G, s, t):\n",
    "    return sPDAGHelper(revGraph(G), s, t)"
   ]
  },
  {
   "cell_type": "code",
   "execution_count": 13,
   "metadata": {},
   "outputs": [
    {
     "data": {
      "text/plain": [
       "4"
      ]
     },
     "execution_count": 13,
     "metadata": {},
     "output_type": "execute_result"
    }
   ],
   "source": [
    "shortestPathDAG(myG, 0, 3)"
   ]
  },
  {
   "cell_type": "code",
   "execution_count": 14,
   "metadata": {},
   "outputs": [],
   "source": [
    "def sPDAGHelperFast(revG, s, t, mem):\n",
    "    if s==t:\n",
    "        return 0\n",
    "    elif len(revG[t])==0:\n",
    "        return float('infinity')\n",
    "    elif mem[t]!=None:\n",
    "        return mem[t]\n",
    "    else:\n",
    "        mem[t] = float('infinity')\n",
    "        for e in revG[t]:\n",
    "            v = e[0]\n",
    "            weight = e[1]\n",
    "            mem[t] = min(mem[t], sPDAGHelperFast(revG, s, v, mem) + weight)\n",
    "        return mem[t]\n",
    "\n",
    "def shortestPathDAGFast(G, s, t):\n",
    "    mem = [None]*len(G)\n",
    "    return sPDAGHelperFast(revGraph(G), s, t, mem)"
   ]
  },
  {
   "cell_type": "code",
   "execution_count": 15,
   "metadata": {},
   "outputs": [
    {
     "data": {
      "text/plain": [
       "4"
      ]
     },
     "execution_count": 15,
     "metadata": {},
     "output_type": "execute_result"
    }
   ],
   "source": [
    "shortestPathDAGFast(myG, 0, 3)"
   ]
  },
  {
   "cell_type": "code",
   "execution_count": 16,
   "metadata": {},
   "outputs": [],
   "source": [
    "def sPDAGHelperGetPath(revG, s, t, mem, choices):\n",
    "    if s==t:\n",
    "        return 0\n",
    "    elif len(revG[t])==0:\n",
    "        return float('infinity')\n",
    "    elif mem[t]!=None:\n",
    "        return mem[t]\n",
    "    else:\n",
    "        mem[t] = float('infinity')\n",
    "        for e in revG[t]:\n",
    "            v = e[0]\n",
    "            weight = e[1]\n",
    "            x = sPDAGHelperGetPath(revG, s, v, mem, choices) + weight\n",
    "            if x < mem[t]:\n",
    "                choices[t] = v\n",
    "                mem[t] = x\n",
    "        return mem[t]\n",
    "\n",
    "def shortestPathDAGGetPath(G, s, t):\n",
    "    mem = [None]*len(G)\n",
    "    choices = [None]*len(G)\n",
    "    cost = sPDAGHelperGetPath(revGraph(G), s, t, mem, choices)\n",
    "    if cost == float('infinity'):\n",
    "        return []\n",
    "    path = [t]\n",
    "    at = t\n",
    "    while at != s:\n",
    "        at = choices[at]\n",
    "        path.append(at)\n",
    "    path.reverse()\n",
    "    return path"
   ]
  },
  {
   "cell_type": "code",
   "execution_count": 17,
   "metadata": {},
   "outputs": [
    {
     "data": {
      "text/plain": [
       "[0, 1, 3]"
      ]
     },
     "execution_count": 17,
     "metadata": {},
     "output_type": "execute_result"
    }
   ],
   "source": [
    "shortestPathDAGGetPath(myG, 0, 3)"
   ]
  },
  {
   "cell_type": "code",
   "execution_count": 5,
   "metadata": {},
   "outputs": [],
   "source": [
    "# return lis length of B[i..] when all elts chosen must be > B[last]\n",
    "def lisMemoHelper(i, last, B, mem):\n",
    "    if i == len(B):\n",
    "        return 0\n",
    "    elif mem[i][last] != None:\n",
    "        return mem[i][last]\n",
    "    mem[i][last] = lisMemoHelper(i+1, last, B, mem)\n",
    "    if B[i] > B[last]:\n",
    "        mem[i][last] = max(mem[i][last], 1 + lisMemoHelper(i+1, i, B, mem))\n",
    "    return mem[i][last]\n",
    "\n",
    "def lisMemo(A):\n",
    "    B = [-float('infinity')] + A # sentinel !\n",
    "    mem = [[None]*len(B) for _ in range(len(B))]\n",
    "    return lisMemoHelper(1, 0, B, mem)"
   ]
  },
  {
   "cell_type": "code",
   "execution_count": 6,
   "metadata": {},
   "outputs": [
    {
     "data": {
      "text/plain": [
       "3"
      ]
     },
     "execution_count": 6,
     "metadata": {},
     "output_type": "execute_result"
    }
   ],
   "source": [
    "lisMemo([1,7,2,3])"
   ]
  },
  {
   "cell_type": "code",
   "execution_count": 9,
   "metadata": {},
   "outputs": [],
   "source": [
    "def lisBottomUp(A):\n",
    "    B = [-float('infinity')] + A\n",
    "    n = len(B)\n",
    "    mem = [[None]*n for _ in range(n+1)]\n",
    "    for last in range(n):\n",
    "        mem[n][last] = 0\n",
    "    for i in range(n-1, -1, -1): # goes from n-1 down to 0\n",
    "        for last in range(n):\n",
    "            mem[i][last] = mem[i+1][last]\n",
    "            if B[i] > B[last]:\n",
    "                mem[i][last] = max(mem[i][last], 1 + mem[i+1][i])\n",
    "    return mem[1][0]"
   ]
  },
  {
   "cell_type": "code",
   "execution_count": 10,
   "metadata": {},
   "outputs": [
    {
     "data": {
      "text/plain": [
       "3"
      ]
     },
     "execution_count": 10,
     "metadata": {},
     "output_type": "execute_result"
    }
   ],
   "source": [
    "lisBottomUp([1,7,2,3])"
   ]
  },
  {
   "cell_type": "code",
   "execution_count": 11,
   "metadata": {},
   "outputs": [],
   "source": [
    "# f(i, *) only depends on f(i+1, *), so only need to track two rows at a time; O(n) space instead of O(n^2)\n",
    "def lisBottomUpSpaceSaving(A):\n",
    "    B = [-float('infinity')] + A\n",
    "    n = len(B)\n",
    "    mem = [[None]*n for _ in range(2)]\n",
    "    for last in range(n):\n",
    "        mem[0][last] = 0\n",
    "    for i in range(n-1, -1, -1): # goes from n-1 down to 0\n",
    "        for last in range(n):\n",
    "            mem[1][last] = mem[0][last]\n",
    "            if B[i] > B[last]:\n",
    "                mem[1][last] = max(mem[1][last], 1 + mem[0][i])\n",
    "        for last in range(n):\n",
    "            mem[0][last] = mem[1][last]\n",
    "    return mem[1][0]"
   ]
  },
  {
   "cell_type": "code",
   "execution_count": 12,
   "metadata": {},
   "outputs": [
    {
     "data": {
      "text/plain": [
       "3"
      ]
     },
     "execution_count": 12,
     "metadata": {},
     "output_type": "execute_result"
    }
   ],
   "source": [
    "lisBottomUpSpaceSaving([1,7,2,3])"
   ]
  },
  {
   "cell_type": "code",
   "execution_count": 13,
   "metadata": {},
   "outputs": [],
   "source": [
    "# return max value from packing A[i..] when knapsack can only fit weight C\n",
    "def knapsackMemoHelper(i, C, A, mem):\n",
    "    if i == len(A):\n",
    "        return 0\n",
    "    elif mem[i][C] != None:\n",
    "        return mem[i][C]\n",
    "    else:\n",
    "        mem[i][C] = knapsackMemoHelper(i+1, C, A, mem)\n",
    "        if A[i][0] <= C:\n",
    "            mem[i][C] = max(mem[i][C], A[i][1] + knapsackMemoHelper(i+1, C-A[i][0], A, mem))\n",
    "        return mem[i][C]\n",
    "\n",
    "def knapsackMemo(A, W): # elts of A are [weight, val] pairs\n",
    "    mem = [[None]*(W+1) for _ in range(len(A))]\n",
    "    return knapsackMemoHelper(0, W, A, mem)"
   ]
  },
  {
   "cell_type": "code",
   "execution_count": 14,
   "metadata": {},
   "outputs": [
    {
     "data": {
      "text/plain": [
       "20"
      ]
     },
     "execution_count": 14,
     "metadata": {},
     "output_type": "execute_result"
    }
   ],
   "source": [
    "knapsackMemo([[11,15], [10,10], [10,10]], 20) # should take the last two items and not the first"
   ]
  },
  {
   "cell_type": "code",
   "execution_count": 17,
   "metadata": {},
   "outputs": [],
   "source": [
    "# f(i, S) = min travel distance to hit every loc in S when starting at i\n",
    "def tspMemoHelper(i, S, D, mem):\n",
    "    if S == 0:\n",
    "        return 0\n",
    "    elif mem[i][S] != None:\n",
    "        return mem[i][S]\n",
    "    else:\n",
    "        mem[i][S] = float('infinity')\n",
    "        for x in range(len(D)):\n",
    "            if (S & (1<<x)) != 0:\n",
    "                mem[i][S] = min(mem[i][S], D[i][x] + tspMemoHelper(x, S^(1<<x), D, mem))\n",
    "        return mem[i][S]\n",
    "\n",
    "# minimum total distance starting from 0 to visit all other locations\n",
    "def travelingSalesmanMemo(D): # D[i][j] is distance from location i to j; assume it's a metric\n",
    "    mem = [[None]*(2**len(D)) for _ in range(len(D))]\n",
    "    return tspMemoHelper(0, (2**len(D))-2, D, mem) # need to visit 1,2,3...,n-1, rep'd by 2^n - 2"
   ]
  },
  {
   "cell_type": "code",
   "execution_count": 19,
   "metadata": {},
   "outputs": [
    {
     "data": {
      "text/plain": [
       "2"
      ]
     },
     "execution_count": 19,
     "metadata": {},
     "output_type": "execute_result"
    }
   ],
   "source": [
    "# 3 points 0,1,2 where dist from 0 to 2 is 2, and otherwise pairwise dists are all 1\n",
    "# best route is 0->1->2 with cost 2 (0->2->1 would cost 3)\n",
    "travelingSalesmanMemo([[0,1,2], [1,0,1], [2,1,0]])"
   ]
  },
  {
   "cell_type": "code",
   "execution_count": 23,
   "metadata": {},
   "outputs": [],
   "source": [
    "# f(i,j) = min cost to multiply A_i x ... x A_j\n",
    "def mcmMemoHelper(i, j, s, mem):\n",
    "    if i == j:\n",
    "        return 0\n",
    "    elif mem[i][j] != None:\n",
    "        return mem[i][j]\n",
    "    else:\n",
    "        mem[i][j] = float('infinity')\n",
    "        for k in range(i, j):\n",
    "            # try the last multiplication being b/w (A_i x .. x A_k) and (A_{k+1} x .. x A_j)\n",
    "            mem[i][j] = min(mem[i][j], \n",
    "                            s[i]*s[k+1]*s[j+1] + mcmMemoHelper(i, k, s, mem) + mcmMemoHelper(k+1, j, s, mem))\n",
    "        return mem[i][j]\n",
    "\n",
    "# multiply A_1 x ... x A_n where A_i is an s[i] x s[i+1] matrix\n",
    "def matrixChainMultMemo(s):\n",
    "    mem = [[None]*(len(s)-1) for _ in range(len(s)-1)]\n",
    "    return mcmMemoHelper(0, len(s)-2, s, mem)"
   ]
  },
  {
   "cell_type": "code",
   "execution_count": 24,
   "metadata": {},
   "outputs": [
    {
     "data": {
      "text/plain": [
       "15"
      ]
     },
     "execution_count": 24,
     "metadata": {},
     "output_type": "execute_result"
    }
   ],
   "source": [
    "# example from class: A x B x C where A is 3x3, B is 3x2, C is 2x1; Ax(BxC) is cheaper than (AxB)xC\n",
    "matrixChainMultMemo([3, 3, 2, 1])"
   ]
  }
 ],
 "metadata": {
  "kernelspec": {
   "display_name": "Python 3",
   "language": "python",
   "name": "python3"
  },
  "language_info": {
   "codemirror_mode": {
    "name": "ipython",
    "version": 3
   },
   "file_extension": ".py",
   "mimetype": "text/x-python",
   "name": "python",
   "nbconvert_exporter": "python",
   "pygments_lexer": "ipython3",
   "version": "3.6.9"
  }
 },
 "nbformat": 4,
 "nbformat_minor": 2
}
